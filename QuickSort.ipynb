{
 "cells": [
  {
   "cell_type": "code",
   "execution_count": 289,
   "metadata": {},
   "outputs": [],
   "source": [
    "def quick_sort(nums: list, start: int, end: int) -> None:\n",
    "    import random\n",
    "    \n",
    "    if start < end:\n",
    "        \n",
    "        # random choice of pivot\n",
    "        pivot_index = random.randint(start, end)\n",
    "    \n",
    "        nums[start], nums[pivot_index] = nums[pivot_index], nums[start]\n",
    "        \n",
    "        # partition step\n",
    "        i = start+1\n",
    "        for j in range(start+1, end+1):\n",
    "            if nums[j] < nums[start]:\n",
    "                nums[j], nums[i] = nums[i], nums[j]\n",
    "                i += 1\n",
    "                \n",
    "        # recursion        \n",
    "        pivot_index = i-1\n",
    "            \n",
    "        nums[start], nums[pivot_index] = nums[pivot_index], nums[start]\n",
    "    \n",
    "        quick_sort(nums, start, pivot_index-1)\n",
    "        quick_sort(nums, pivot_index+1, end)\n",
    "    "
   ]
  },
  {
   "cell_type": "code",
   "execution_count": 288,
   "metadata": {},
   "outputs": [
    {
     "data": {
      "text/plain": [
       "[-1, -1, 0, 0.3, 1, 1, 2, 3, 4, 8, 9, 9, 10, 45, 100]"
      ]
     },
     "execution_count": 288,
     "metadata": {},
     "output_type": "execute_result"
    }
   ],
   "source": [
    "test = [0,8,1,9,4,10,100,2,45,1,9,3,-1,-1,0.3]\n",
    "quick_sort(test, 0, len(test)-1)\n",
    "test"
   ]
  }
 ],
 "metadata": {
  "kernelspec": {
   "display_name": "Python 3",
   "language": "python",
   "name": "python3"
  },
  "language_info": {
   "codemirror_mode": {
    "name": "ipython",
    "version": 3
   },
   "file_extension": ".py",
   "mimetype": "text/x-python",
   "name": "python",
   "nbconvert_exporter": "python",
   "pygments_lexer": "ipython3",
   "version": "3.7.4"
  }
 },
 "nbformat": 4,
 "nbformat_minor": 4
}
