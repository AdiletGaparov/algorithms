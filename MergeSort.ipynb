{
 "cells": [
  {
   "cell_type": "code",
   "execution_count": 50,
   "metadata": {},
   "outputs": [],
   "source": [
    "def merge_sort(nums: list) -> list:\n",
    "    if len(nums) <= 1:\n",
    "        return nums\n",
    "    \n",
    "    length = len(nums)\n",
    "    \n",
    "    first_half = merge_sort(nums[:length//2])\n",
    "    second_half = merge_sort(nums[length//2:])\n",
    "    \n",
    "    nums_sorted = []\n",
    "    i = 0\n",
    "    j = 0\n",
    "    for _ in range(length):\n",
    "        if i == len(first_half):\n",
    "            nums_sorted.append(second_half[j])\n",
    "            j += 1\n",
    "        elif j == len(second_half):\n",
    "            nums_sorted.append(first_half[i])\n",
    "            i += 1\n",
    "        elif first_half[i] < second_half[j]:\n",
    "            nums_sorted.append(first_half[i])\n",
    "            i += 1\n",
    "        elif second_half[j] <= first_half[i]:\n",
    "            nums_sorted.append(second_half[j])\n",
    "            j += 1\n",
    "    \n",
    "    return nums_sorted"
   ]
  },
  {
   "cell_type": "code",
   "execution_count": 53,
   "metadata": {},
   "outputs": [
    {
     "data": {
      "text/plain": [
       "[-10, 1, 1.2, 3, 3, 4, 8, 8, 10, 12, 100]"
      ]
     },
     "execution_count": 53,
     "metadata": {},
     "output_type": "execute_result"
    }
   ],
   "source": [
    "test = [10,12,8,1,3,4,3,100,8, 1.2, -10]\n",
    "merge_sort(test)"
   ]
  }
 ],
 "metadata": {
  "kernelspec": {
   "display_name": "Python 3",
   "language": "python",
   "name": "python3"
  },
  "language_info": {
   "codemirror_mode": {
    "name": "ipython",
    "version": 3
   },
   "file_extension": ".py",
   "mimetype": "text/x-python",
   "name": "python",
   "nbconvert_exporter": "python",
   "pygments_lexer": "ipython3",
   "version": "3.7.6"
  }
 },
 "nbformat": 4,
 "nbformat_minor": 4
}
