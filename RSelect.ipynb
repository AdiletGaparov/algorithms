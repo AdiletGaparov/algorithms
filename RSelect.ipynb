{
 "cells": [
  {
   "cell_type": "code",
   "execution_count": 20,
   "metadata": {},
   "outputs": [],
   "source": [
    "def r_select(nums: list, k: int) -> None:\n",
    "    \"\"\"Finds the k-statistic in O(n) running time. \n",
    "    If k=1, finds the minimum value in the array, if k=2, finds the second minimum number, etc. \n",
    "    \"\"\"\n",
    "    \n",
    "    import random\n",
    "        \n",
    "    if len(nums) == 1:\n",
    "        return nums[0]\n",
    "    \n",
    "    # random choice of pivot\n",
    "    pivot_index = random.randint(0, len(nums)-1)\n",
    "    \n",
    "    nums[0], nums[pivot_index] = nums[pivot_index], nums[0]\n",
    "        \n",
    "    # partition step\n",
    "    i = 1\n",
    "    for j in range(1, len(nums)):\n",
    "        if nums[j] < nums[0]:\n",
    "            nums[j], nums[i] = nums[i], nums[j]\n",
    "            i += 1\n",
    "                \n",
    "    # recursion        \n",
    "    pivot_index = i-1\n",
    "            \n",
    "    nums[0], nums[pivot_index] = nums[pivot_index], nums[0]\n",
    "    \n",
    "    if pivot_index == k-1:\n",
    "        return nums[pivot_index]\n",
    "    elif pivot_index < k-1:\n",
    "        return r_select(nums[pivot_index+1:], k-pivot_index-1)\n",
    "    else:\n",
    "        return r_select(nums[:pivot_index], k) "
   ]
  },
  {
   "cell_type": "code",
   "execution_count": 57,
   "metadata": {},
   "outputs": [
    {
     "data": {
      "text/plain": [
       "9"
      ]
     },
     "execution_count": 57,
     "metadata": {},
     "output_type": "execute_result"
    }
   ],
   "source": [
    "test = [0,8,1,9,4,10,100,2,45,1,9,3,-1,-1,0.3]\n",
    "r_select(test, len(test)-3)"
   ]
  },
  {
   "cell_type": "code",
   "execution_count": 8,
   "metadata": {},
   "outputs": [
    {
     "data": {
      "text/plain": [
       "[-1, -1, 0, 0.3, 1, 1, 2, 3, 4, 8, 9, 9, 10, 45, 100]"
      ]
     },
     "execution_count": 8,
     "metadata": {},
     "output_type": "execute_result"
    }
   ],
   "source": [
    "sorted(test)"
   ]
  }
 ],
 "metadata": {
  "kernelspec": {
   "display_name": "Python 3",
   "language": "python",
   "name": "python3"
  },
  "language_info": {
   "codemirror_mode": {
    "name": "ipython",
    "version": 3
   },
   "file_extension": ".py",
   "mimetype": "text/x-python",
   "name": "python",
   "nbconvert_exporter": "python",
   "pygments_lexer": "ipython3",
   "version": "3.7.4"
  }
 },
 "nbformat": 4,
 "nbformat_minor": 4
}
